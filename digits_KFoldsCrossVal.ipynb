{
  "cells": [
    {
      "cell_type": "code",
      "execution_count": 1,
      "metadata": {
        "id": "8ZPhzH4MSBiw"
      },
      "outputs": [],
      "source": [
        "from sklearn.linear_model import LogisticRegression\n",
        "from sklearn.svm import SVC\n",
        "from sklearn.ensemble import RandomForestClassifier\n",
        "from sklearn.datasets import load_digits\n",
        "import pandas as pd\n",
        "digits = load_digits()"
      ]
    },
    {
      "cell_type": "code",
      "execution_count": 2,
      "metadata": {
        "colab": {
          "base_uri": "https://localhost:8080/"
        },
        "id": "2fzkTDoXagRF",
        "outputId": "1c7322d4-c220-46a6-a74c-cce3b78c753f"
      },
      "outputs": [
        {
          "data": {
            "text/plain": [
              "(1797, 64)"
            ]
          },
          "execution_count": 2,
          "metadata": {},
          "output_type": "execute_result"
        }
      ],
      "source": [
        "digits.data.shape"
      ]
    },
    {
      "cell_type": "code",
      "execution_count": 33,
      "metadata": {
        "id": "YjsO16rrYkIb"
      },
      "outputs": [],
      "source": [
        "from sklearn.model_selection import train_test_split\n",
        "x_train,x_test,y_train,y_test = train_test_split(digits.data,digits.target,test_size = 0.25)"
      ]
    },
    {
      "cell_type": "code",
      "execution_count": 34,
      "metadata": {
        "colab": {
          "base_uri": "https://localhost:8080/"
        },
        "id": "u_aAqXVsaPW0",
        "outputId": "c42dfe5c-6385-4a9e-cb94-4a3dabe67f1b"
      },
      "outputs": [
        {
          "data": {
            "text/plain": [
              "1347"
            ]
          },
          "execution_count": 34,
          "metadata": {},
          "output_type": "execute_result"
        }
      ],
      "source": [
        "len(x_train)"
      ]
    },
    {
      "cell_type": "code",
      "execution_count": 36,
      "metadata": {
        "colab": {
          "base_uri": "https://localhost:8080/"
        },
        "id": "jJUyL1GsZBYf",
        "outputId": "402ca0d7-6c31-412d-d538-1fd81cb7cdd0"
      },
      "outputs": [
        {
          "name": "stdout",
          "output_type": "stream",
          "text": [
            "LogisticRegression(max_iter=1800)   95.77777777777777\n",
            "SVC()   97.77777777777777\n",
            "RandomForestClassifier(n_estimators=40)   95.55555555555556\n"
          ]
        }
      ],
      "source": [
        "models = [LogisticRegression(max_iter = 1800),SVC(),RandomForestClassifier(n_estimators=40)]\n",
        "for model in models:\n",
        "  model.fit(x_train,y_train)\n",
        "  print(model,\" \",model.score(x_test,y_test)*100)"
      ]
    },
    {
      "cell_type": "markdown",
      "metadata": {
        "id": "Ko_ufIgJbhKf"
      },
      "source": [
        "Everytime the data is splitted into train and test set the accuracy will change and it becomes difficult/time consuming to identify the algorithm which performs the best on the dataset provided."
      ]
    },
    {
      "cell_type": "code",
      "execution_count": 39,
      "metadata": {
        "colab": {
          "base_uri": "https://localhost:8080/"
        },
        "id": "WEf5CLOeZSZc",
        "outputId": "dd5ead97-5433-484f-ed41-e0b955f4802e"
      },
      "outputs": [
        {
          "data": {
            "text/plain": [
              "KFold(n_splits=3, random_state=None, shuffle=False)"
            ]
          },
          "execution_count": 39,
          "metadata": {},
          "output_type": "execute_result"
        }
      ],
      "source": [
        "from sklearn.model_selection import KFold\n",
        "kf = KFold(n_splits = 3)\n",
        "kf"
      ]
    },
    {
      "cell_type": "code",
      "execution_count": 40,
      "metadata": {
        "colab": {
          "base_uri": "https://localhost:8080/"
        },
        "id": "yueLTCU5cT7O",
        "outputId": "ec5c8434-f744-4760-fe9d-7a8a05643d94"
      },
      "outputs": [
        {
          "name": "stdout",
          "output_type": "stream",
          "text": [
            "[3 4 5 6 7 8] [0 1 2]\n",
            "[0 1 2 6 7 8] [3 4 5]\n",
            "[0 1 2 3 4 5] [6 7 8]\n"
          ]
        }
      ],
      "source": [
        "for train_index, test_index in kf.split([1,2,3,4,5,6,7,8,9]):\n",
        "  print(train_index,test_index)"
      ]
    },
    {
      "cell_type": "code",
      "execution_count": 41,
      "metadata": {
        "id": "_NalVgXxcyRI"
      },
      "outputs": [],
      "source": [
        "def get_score(model,x_train,x_test,y_train,y_test):\n",
        "  model.fit(x_train,y_train)\n",
        "  return model.score(x_test,y_test)"
      ]
    },
    {
      "cell_type": "code",
      "execution_count": 43,
      "metadata": {
        "id": "zCFuCFnae3nf"
      },
      "outputs": [],
      "source": [
        "from sklearn.model_selection import StratifiedKFold\n",
        "folds = StratifiedKFold(n_splits = 3)"
      ]
    },
    {
      "cell_type": "markdown",
      "metadata": {
        "id": "rCSOWcegffrj"
      },
      "source": [
        "StratifiedKFold divides each classes into the folds uniformly. Because if your one fold contains only one class and other fold contains the two class and etc\n",
        "then it might create problem as the distribution is non uniform."
      ]
    },
    {
      "cell_type": "code",
      "execution_count": 51,
      "metadata": {
        "id": "U4r1d1Jnfdn2"
      },
      "outputs": [],
      "source": [
        "scores_lr = []\n",
        "scores_svm = []\n",
        "scores_rf = []\n",
        "\n",
        "for train_index, test_index in folds.split(digits.data,digits.target):\n",
        "  x_train,x_test,y_train,y_test = digits.data[train_index],digits.data[test_index],digits.target[train_index],digits.target[test_index]\n",
        "  scores_lr.append(get_score(LogisticRegression(max_iter=5000),x_train,x_test,y_train,y_test))\n",
        "  scores_svm.append(get_score(SVC(),x_train,x_test,y_train,y_test))\n",
        "  scores_rf.append(get_score(RandomForestClassifier(n_estimators=40),x_train,x_test,y_train,y_test))\n"
      ]
    },
    {
      "cell_type": "code",
      "execution_count": 52,
      "metadata": {
        "colab": {
          "base_uri": "https://localhost:8080/"
        },
        "id": "ASbTr3HFjTf5",
        "outputId": "bb4d8459-f976-49ad-c55f-b73007ff5988"
      },
      "outputs": [
        {
          "data": {
            "text/plain": [
              "[0.9248747913188647, 0.9415692821368948, 0.9232053422370617]"
            ]
          },
          "execution_count": 52,
          "metadata": {},
          "output_type": "execute_result"
        }
      ],
      "source": [
        "scores_lr"
      ]
    },
    {
      "cell_type": "code",
      "execution_count": 53,
      "metadata": {
        "colab": {
          "base_uri": "https://localhost:8080/"
        },
        "id": "O3LtlgMFkolm",
        "outputId": "6c1f6106-6a04-4ce7-f9e1-8746a767e34e"
      },
      "outputs": [
        {
          "data": {
            "text/plain": [
              "[0.9649415692821369, 0.9799666110183639, 0.9649415692821369]"
            ]
          },
          "execution_count": 53,
          "metadata": {},
          "output_type": "execute_result"
        }
      ],
      "source": [
        "scores_svm"
      ]
    },
    {
      "cell_type": "code",
      "execution_count": 54,
      "metadata": {
        "colab": {
          "base_uri": "https://localhost:8080/"
        },
        "id": "GBH-p5GDkqjJ",
        "outputId": "845bc381-62c1-4290-a41f-bda341159c11"
      },
      "outputs": [
        {
          "data": {
            "text/plain": [
              "[0.9382303839732888, 0.9515859766277128, 0.9298831385642737]"
            ]
          },
          "execution_count": 54,
          "metadata": {},
          "output_type": "execute_result"
        }
      ],
      "source": [
        "scores_rf"
      ]
    },
    {
      "cell_type": "code",
      "execution_count": 55,
      "metadata": {
        "colab": {
          "base_uri": "https://localhost:8080/"
        },
        "id": "5PqjbcMZkru8",
        "outputId": "17d1b661-5285-461c-ef3f-163bb7e84661"
      },
      "outputs": [
        {
          "data": {
            "text/plain": [
              "array([0.925     , 0.87777778, 0.93871866, 0.93314763, 0.89693593])"
            ]
          },
          "execution_count": 55,
          "metadata": {},
          "output_type": "execute_result"
        }
      ],
      "source": [
        "from sklearn.model_selection import cross_val_score\n",
        "cross_val_score(LogisticRegression(max_iter=5000),digits.data,digits.target)"
      ]
    },
    {
      "cell_type": "code",
      "execution_count": 56,
      "metadata": {
        "colab": {
          "base_uri": "https://localhost:8080/"
        },
        "id": "9G2QtiDDlkq6",
        "outputId": "c85eacdb-8d70-4cc0-b6a9-46b32a4e607d"
      },
      "outputs": [
        {
          "data": {
            "text/plain": [
              "array([0.96111111, 0.94444444, 0.98328691, 0.98885794, 0.93871866])"
            ]
          },
          "execution_count": 56,
          "metadata": {},
          "output_type": "execute_result"
        }
      ],
      "source": [
        "cross_val_score(SVC(),digits.data,digits.target)"
      ]
    },
    {
      "cell_type": "code",
      "execution_count": 57,
      "metadata": {
        "colab": {
          "base_uri": "https://localhost:8080/"
        },
        "id": "P4sbl2jGl21-",
        "outputId": "a768dd8a-d3e7-47d3-e0d9-e568b52e3a86"
      },
      "outputs": [
        {
          "data": {
            "text/plain": [
              "array([0.93333333, 0.90555556, 0.96100279, 0.95543175, 0.92200557])"
            ]
          },
          "execution_count": 57,
          "metadata": {},
          "output_type": "execute_result"
        }
      ],
      "source": [
        "cross_val_score(RandomForestClassifier(n_estimators=40),digits.data,digits.target)"
      ]
    },
    {
      "cell_type": "markdown",
      "metadata": {
        "id": "u6k42_Yomcjr"
      },
      "source": [
        "So far we used the same parameters and different algos to find the best classifier.\n",
        "\n",
        "Now we can also use cross_val_score method to find the best classifier with a fixed algo and different values of parameters."
      ]
    },
    {
      "cell_type": "code",
      "execution_count": 58,
      "metadata": {
        "colab": {
          "base_uri": "https://localhost:8080/"
        },
        "id": "ylWEVeF9l9-H",
        "outputId": "29dd6125-8e99-4a3e-bad2-0ed6f67e88b2"
      },
      "outputs": [
        {
          "data": {
            "text/plain": [
              "array([0.91111111, 0.84722222, 0.93036212, 0.93593315, 0.88300836])"
            ]
          },
          "execution_count": 58,
          "metadata": {},
          "output_type": "execute_result"
        }
      ],
      "source": [
        "cross_val_score(RandomForestClassifier(n_estimators=10),digits.data,digits.target)"
      ]
    },
    {
      "cell_type": "code",
      "execution_count": 59,
      "metadata": {
        "colab": {
          "base_uri": "https://localhost:8080/"
        },
        "id": "3nie_fdhm7ca",
        "outputId": "9feb9b5b-09f4-4b6f-f156-f81f8571c106"
      },
      "outputs": [
        {
          "data": {
            "text/plain": [
              "array([0.91111111, 0.85833333, 0.94428969, 0.94428969, 0.9275766 ])"
            ]
          },
          "execution_count": 59,
          "metadata": {},
          "output_type": "execute_result"
        }
      ],
      "source": [
        "cross_val_score(RandomForestClassifier(n_estimators=20),digits.data,digits.target)"
      ]
    },
    {
      "cell_type": "code",
      "execution_count": 60,
      "metadata": {
        "colab": {
          "base_uri": "https://localhost:8080/"
        },
        "id": "A-yix-nwm8os",
        "outputId": "15af6c6b-b15f-47e8-f33e-a02a35d34c59"
      },
      "outputs": [
        {
          "data": {
            "text/plain": [
              "array([0.93333333, 0.89722222, 0.96935933, 0.95821727, 0.9275766 ])"
            ]
          },
          "execution_count": 60,
          "metadata": {},
          "output_type": "execute_result"
        }
      ],
      "source": [
        "cross_val_score(RandomForestClassifier(n_estimators=30),digits.data,digits.target)"
      ]
    },
    {
      "cell_type": "code",
      "execution_count": 61,
      "metadata": {
        "colab": {
          "base_uri": "https://localhost:8080/"
        },
        "id": "i6g5FW-Fm-ex",
        "outputId": "6652f375-f9d3-41eb-f45d-e1ed8b688c3e"
      },
      "outputs": [
        {
          "data": {
            "text/plain": [
              "array([0.91944444, 0.90555556, 0.93871866, 0.95543175, 0.92479109])"
            ]
          },
          "execution_count": 61,
          "metadata": {},
          "output_type": "execute_result"
        }
      ],
      "source": [
        "cross_val_score(RandomForestClassifier(n_estimators=40),digits.data,digits.target)"
      ]
    },
    {
      "cell_type": "code",
      "execution_count": 62,
      "metadata": {
        "colab": {
          "base_uri": "https://localhost:8080/"
        },
        "id": "llH5lnomnCY9",
        "outputId": "541c8115-8c4d-48df-c47f-1ee059db3b6a"
      },
      "outputs": [
        {
          "data": {
            "text/plain": [
              "array([0.91666667, 0.89722222, 0.95543175, 0.9637883 , 0.93036212])"
            ]
          },
          "execution_count": 62,
          "metadata": {},
          "output_type": "execute_result"
        }
      ],
      "source": [
        "cross_val_score(RandomForestClassifier(n_estimators=50),digits.data,digits.target)"
      ]
    },
    {
      "cell_type": "code",
      "execution_count": 63,
      "metadata": {
        "colab": {
          "base_uri": "https://localhost:8080/"
        },
        "id": "YEaJXKhEnFBI",
        "outputId": "d2101246-077e-490b-a85e-e01987d89724"
      },
      "outputs": [
        {
          "data": {
            "text/plain": [
              "array([0.92222222, 0.89722222, 0.96100279, 0.96100279, 0.93314763])"
            ]
          },
          "execution_count": 63,
          "metadata": {},
          "output_type": "execute_result"
        }
      ],
      "source": [
        "cross_val_score(RandomForestClassifier(n_estimators=60),digits.data,digits.target)"
      ]
    }
  ],
  "metadata": {
    "colab": {
      "collapsed_sections": [],
      "name": "digits_KFoldsCrossVal.ipynb",
      "provenance": []
    },
    "kernelspec": {
      "display_name": "Python 3.10.5 64-bit",
      "language": "python",
      "name": "python3"
    },
    "language_info": {
      "codemirror_mode": {
        "name": "ipython",
        "version": 3
      },
      "file_extension": ".py",
      "mimetype": "text/x-python",
      "name": "python",
      "nbconvert_exporter": "python",
      "pygments_lexer": "ipython3",
      "version": "3.10.5"
    },
    "vscode": {
      "interpreter": {
        "hash": "369f2c481f4da34e4445cda3fffd2e751bd1c4d706f27375911949ba6bb62e1c"
      }
    }
  },
  "nbformat": 4,
  "nbformat_minor": 0
}
