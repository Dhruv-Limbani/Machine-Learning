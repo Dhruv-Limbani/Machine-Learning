{
  "cells": [
    {
      "cell_type": "code",
      "execution_count": 1,
      "metadata": {
        "id": "Al_1Dw9M8509"
      },
      "outputs": [],
      "source": [
        "from sklearn.datasets import load_iris\n",
        "iris=load_iris()"
      ]
    },
    {
      "cell_type": "code",
      "execution_count": 2,
      "metadata": {
        "colab": {
          "base_uri": "https://localhost:8080/"
        },
        "id": "NQY3Mmqh9goW",
        "outputId": "74c64f30-3048-4738-cad5-3dea07044f1d"
      },
      "outputs": [
        {
          "data": {
            "text/plain": [
              "['DESCR',\n",
              " 'data',\n",
              " 'feature_names',\n",
              " 'filename',\n",
              " 'frame',\n",
              " 'target',\n",
              " 'target_names']"
            ]
          },
          "execution_count": 2,
          "metadata": {},
          "output_type": "execute_result"
        }
      ],
      "source": [
        "dir(iris)"
      ]
    },
    {
      "cell_type": "code",
      "execution_count": 3,
      "metadata": {
        "colab": {
          "base_uri": "https://localhost:8080/"
        },
        "id": "JdiRq1mG95gw",
        "outputId": "794d2066-bc8f-4cbb-aed9-c5ace0a4cdbc"
      },
      "outputs": [
        {
          "data": {
            "text/plain": [
              "array([5.1, 3.5, 1.4, 0.2])"
            ]
          },
          "execution_count": 3,
          "metadata": {},
          "output_type": "execute_result"
        }
      ],
      "source": [
        "iris.data[0]"
      ]
    },
    {
      "cell_type": "code",
      "execution_count": 4,
      "metadata": {
        "colab": {
          "base_uri": "https://localhost:8080/"
        },
        "id": "zZdof-7I9_D2",
        "outputId": "ddee84a6-a002-478c-996f-75df241f24f5"
      },
      "outputs": [
        {
          "data": {
            "text/plain": [
              "['sepal length (cm)',\n",
              " 'sepal width (cm)',\n",
              " 'petal length (cm)',\n",
              " 'petal width (cm)']"
            ]
          },
          "execution_count": 4,
          "metadata": {},
          "output_type": "execute_result"
        }
      ],
      "source": [
        "iris.feature_names"
      ]
    },
    {
      "cell_type": "code",
      "execution_count": 5,
      "metadata": {
        "colab": {
          "base_uri": "https://localhost:8080/"
        },
        "id": "_L9qqC06-JF5",
        "outputId": "46647d29-8009-4f3b-9891-17150ac84b16"
      },
      "outputs": [
        {
          "data": {
            "text/plain": [
              "0"
            ]
          },
          "execution_count": 5,
          "metadata": {},
          "output_type": "execute_result"
        }
      ],
      "source": [
        "iris.target[0]"
      ]
    },
    {
      "cell_type": "code",
      "execution_count": 6,
      "metadata": {
        "colab": {
          "base_uri": "https://localhost:8080/"
        },
        "id": "cK6WcObw-NnI",
        "outputId": "28fd51a5-1cbb-4247-889a-b93c8858c0c6"
      },
      "outputs": [
        {
          "data": {
            "text/plain": [
              "array(['setosa', 'versicolor', 'virginica'], dtype='<U10')"
            ]
          },
          "execution_count": 6,
          "metadata": {},
          "output_type": "execute_result"
        }
      ],
      "source": [
        "iris.target_names            "
      ]
    },
    {
      "cell_type": "code",
      "execution_count": 7,
      "metadata": {
        "id": "qU7EjLEi-QQx"
      },
      "outputs": [],
      "source": [
        "# setosa = 0, versicolor = 1, virginica =2"
      ]
    },
    {
      "cell_type": "code",
      "execution_count": 8,
      "metadata": {
        "id": "tkrO_GlK-s5S"
      },
      "outputs": [],
      "source": [
        "from sklearn.model_selection import train_test_split\n",
        "x_train, x_test, y_train, y_test = train_test_split(iris.data,iris.target,test_size=20)"
      ]
    },
    {
      "cell_type": "code",
      "execution_count": 9,
      "metadata": {
        "colab": {
          "base_uri": "https://localhost:8080/"
        },
        "id": "7RXkTWE0_DEt",
        "outputId": "540d124f-dc2f-40e7-b979-5061cc6b8e1d"
      },
      "outputs": [
        {
          "data": {
            "text/plain": [
              "array([[6.7, 3. , 5. , 1.7],\n",
              "       [5. , 3.4, 1.6, 0.4],\n",
              "       [7.7, 3.8, 6.7, 2.2],\n",
              "       [5. , 2.3, 3.3, 1. ],\n",
              "       [5.8, 2.7, 3.9, 1.2],\n",
              "       [5.5, 2.4, 3.8, 1.1],\n",
              "       [6.5, 3. , 5.5, 1.8],\n",
              "       [5. , 3.4, 1.5, 0.2],\n",
              "       [5.7, 4.4, 1.5, 0.4],\n",
              "       [6.9, 3.1, 4.9, 1.5],\n",
              "       [7.6, 3. , 6.6, 2.1],\n",
              "       [6. , 2.7, 5.1, 1.6],\n",
              "       [6.5, 2.8, 4.6, 1.5],\n",
              "       [5.1, 3.5, 1.4, 0.2],\n",
              "       [6. , 3.4, 4.5, 1.6],\n",
              "       [5.8, 2.8, 5.1, 2.4],\n",
              "       [5.1, 3.3, 1.7, 0.5],\n",
              "       [6.8, 2.8, 4.8, 1.4],\n",
              "       [7.7, 2.8, 6.7, 2. ],\n",
              "       [5. , 3.6, 1.4, 0.2],\n",
              "       [6.5, 3.2, 5.1, 2. ],\n",
              "       [5.6, 2.7, 4.2, 1.3],\n",
              "       [6. , 2.9, 4.5, 1.5],\n",
              "       [6.9, 3.2, 5.7, 2.3],\n",
              "       [4.6, 3.6, 1. , 0.2],\n",
              "       [5. , 3.5, 1.3, 0.3],\n",
              "       [4.9, 2.4, 3.3, 1. ],\n",
              "       [5.6, 2.5, 3.9, 1.1],\n",
              "       [7.7, 3. , 6.1, 2.3],\n",
              "       [5.9, 3. , 4.2, 1.5],\n",
              "       [6.4, 2.8, 5.6, 2.2],\n",
              "       [6.1, 2.8, 4.7, 1.2],\n",
              "       [5.4, 3.7, 1.5, 0.2],\n",
              "       [4.8, 3.4, 1.9, 0.2],\n",
              "       [5.1, 3.7, 1.5, 0.4],\n",
              "       [4.7, 3.2, 1.6, 0.2],\n",
              "       [7.7, 2.6, 6.9, 2.3],\n",
              "       [6.3, 3.3, 4.7, 1.6],\n",
              "       [5.8, 2.7, 4.1, 1. ],\n",
              "       [5.9, 3.2, 4.8, 1.8],\n",
              "       [5.7, 3. , 4.2, 1.2],\n",
              "       [5.2, 4.1, 1.5, 0.1],\n",
              "       [5. , 3.5, 1.6, 0.6],\n",
              "       [6.4, 2.7, 5.3, 1.9],\n",
              "       [6.7, 3. , 5.2, 2.3],\n",
              "       [6.3, 2.8, 5.1, 1.5],\n",
              "       [5.1, 3.5, 1.4, 0.3],\n",
              "       [6.2, 2.8, 4.8, 1.8],\n",
              "       [6.4, 2.8, 5.6, 2.1],\n",
              "       [7.2, 3.2, 6. , 1.8],\n",
              "       [5.4, 3. , 4.5, 1.5],\n",
              "       [5.7, 2.8, 4.5, 1.3],\n",
              "       [4.9, 2.5, 4.5, 1.7],\n",
              "       [4.5, 2.3, 1.3, 0.3],\n",
              "       [5.7, 2.5, 5. , 2. ],\n",
              "       [5.7, 2.8, 4.1, 1.3],\n",
              "       [6.6, 2.9, 4.6, 1.3],\n",
              "       [6.3, 2.9, 5.6, 1.8],\n",
              "       [6.9, 3.1, 5.1, 2.3],\n",
              "       [5. , 3. , 1.6, 0.2],\n",
              "       [7.2, 3. , 5.8, 1.6],\n",
              "       [6.2, 2.2, 4.5, 1.5],\n",
              "       [6.1, 3. , 4.6, 1.4],\n",
              "       [5.6, 3. , 4.1, 1.3],\n",
              "       [6.7, 3.1, 5.6, 2.4],\n",
              "       [6.3, 3.3, 6. , 2.5],\n",
              "       [5.7, 2.6, 3.5, 1. ],\n",
              "       [6.5, 3. , 5.8, 2.2],\n",
              "       [5. , 3.2, 1.2, 0.2],\n",
              "       [6.2, 2.9, 4.3, 1.3],\n",
              "       [6.3, 2.7, 4.9, 1.8],\n",
              "       [4.8, 3. , 1.4, 0.3],\n",
              "       [5.6, 2.9, 3.6, 1.3],\n",
              "       [5.7, 2.9, 4.2, 1.3],\n",
              "       [7. , 3.2, 4.7, 1.4],\n",
              "       [5.5, 3.5, 1.3, 0.2],\n",
              "       [5.2, 3.5, 1.5, 0.2],\n",
              "       [6.1, 2.6, 5.6, 1.4],\n",
              "       [5.5, 2.5, 4. , 1.3],\n",
              "       [5.4, 3.9, 1.3, 0.4],\n",
              "       [5.3, 3.7, 1.5, 0.2],\n",
              "       [5.2, 2.7, 3.9, 1.4],\n",
              "       [4.3, 3. , 1.1, 0.1],\n",
              "       [5.8, 2.7, 5.1, 1.9],\n",
              "       [5.4, 3.9, 1.7, 0.4],\n",
              "       [4.8, 3. , 1.4, 0.1],\n",
              "       [4.4, 3. , 1.3, 0.2],\n",
              "       [6.7, 3.3, 5.7, 2.5],\n",
              "       [4.6, 3.2, 1.4, 0.2],\n",
              "       [6. , 2.2, 5. , 1.5],\n",
              "       [5.6, 3. , 4.5, 1.5],\n",
              "       [5.6, 2.8, 4.9, 2. ],\n",
              "       [6.7, 3.3, 5.7, 2.1],\n",
              "       [5.1, 3.4, 1.5, 0.2],\n",
              "       [6.3, 2.3, 4.4, 1.3],\n",
              "       [6.4, 3.1, 5.5, 1.8],\n",
              "       [5.8, 2.6, 4. , 1.2],\n",
              "       [5. , 3.3, 1.4, 0.2],\n",
              "       [6.6, 3. , 4.4, 1.4],\n",
              "       [6.7, 3.1, 4.4, 1.4],\n",
              "       [5. , 2. , 3.5, 1. ],\n",
              "       [6.1, 2.9, 4.7, 1.4],\n",
              "       [4.9, 3.6, 1.4, 0.1],\n",
              "       [6.7, 2.5, 5.8, 1.8],\n",
              "       [5.1, 3.8, 1.6, 0.2],\n",
              "       [5.1, 3.8, 1.5, 0.3],\n",
              "       [4.4, 3.2, 1.3, 0.2],\n",
              "       [5.1, 2.5, 3. , 1.1],\n",
              "       [4.7, 3.2, 1.3, 0.2],\n",
              "       [7.1, 3. , 5.9, 2.1],\n",
              "       [5.2, 3.4, 1.4, 0.2],\n",
              "       [6. , 2.2, 4. , 1. ],\n",
              "       [4.9, 3. , 1.4, 0.2],\n",
              "       [4.8, 3.4, 1.6, 0.2],\n",
              "       [5.5, 4.2, 1.4, 0.2],\n",
              "       [4.8, 3.1, 1.6, 0.2],\n",
              "       [6.4, 3.2, 5.3, 2.3],\n",
              "       [5.5, 2.6, 4.4, 1.2],\n",
              "       [6.4, 2.9, 4.3, 1.3],\n",
              "       [4.9, 3.1, 1.5, 0.1],\n",
              "       [6.5, 3. , 5.2, 2. ],\n",
              "       [5.1, 3.8, 1.9, 0.4],\n",
              "       [4.6, 3.1, 1.5, 0.2],\n",
              "       [6.8, 3. , 5.5, 2.1],\n",
              "       [6.1, 3. , 4.9, 1.8],\n",
              "       [5.5, 2.4, 3.7, 1. ],\n",
              "       [7.3, 2.9, 6.3, 1.8],\n",
              "       [6.3, 2.5, 4.9, 1.5],\n",
              "       [6.7, 3.1, 4.7, 1.5],\n",
              "       [6.2, 3.4, 5.4, 2.3]])"
            ]
          },
          "execution_count": 9,
          "metadata": {},
          "output_type": "execute_result"
        }
      ],
      "source": [
        "x_train"
      ]
    },
    {
      "cell_type": "code",
      "execution_count": 10,
      "metadata": {
        "colab": {
          "base_uri": "https://localhost:8080/"
        },
        "id": "U7r8XWvh_G9p",
        "outputId": "f72d160f-0c16-41e4-9309-2764230b366a"
      },
      "outputs": [
        {
          "data": {
            "text/plain": [
              "array([1, 0, 2, 1, 1, 1, 2, 0, 0, 1, 2, 1, 1, 0, 1, 2, 0, 1, 2, 0, 2, 1,\n",
              "       1, 2, 0, 0, 1, 1, 2, 1, 2, 1, 0, 0, 0, 0, 2, 1, 1, 1, 1, 0, 0, 2,\n",
              "       2, 2, 0, 2, 2, 2, 1, 1, 2, 0, 2, 1, 1, 2, 2, 0, 2, 1, 1, 1, 2, 2,\n",
              "       1, 2, 0, 1, 2, 0, 1, 1, 1, 0, 0, 2, 1, 0, 0, 1, 0, 2, 0, 0, 0, 2,\n",
              "       0, 2, 1, 2, 2, 0, 1, 2, 1, 0, 1, 1, 1, 1, 0, 2, 0, 0, 0, 1, 0, 2,\n",
              "       0, 1, 0, 0, 0, 0, 2, 1, 1, 0, 2, 0, 0, 2, 2, 1, 2, 1, 1, 2])"
            ]
          },
          "execution_count": 10,
          "metadata": {},
          "output_type": "execute_result"
        }
      ],
      "source": [
        "y_train"
      ]
    },
    {
      "cell_type": "code",
      "execution_count": 11,
      "metadata": {
        "id": "Co6jUE9G-hhq"
      },
      "outputs": [],
      "source": [
        "from sklearn.linear_model import LogisticRegression\n",
        "model = LogisticRegression(max_iter=1000)"
      ]
    },
    {
      "cell_type": "code",
      "execution_count": 12,
      "metadata": {
        "colab": {
          "base_uri": "https://localhost:8080/"
        },
        "id": "Y3AK_zHq-sC7",
        "outputId": "c418dcbe-e097-4110-b444-2aaca436beb8"
      },
      "outputs": [
        {
          "data": {
            "text/plain": [
              "LogisticRegression(max_iter=1000)"
            ]
          },
          "execution_count": 12,
          "metadata": {},
          "output_type": "execute_result"
        }
      ],
      "source": [
        "model.fit(x_train,y_train)"
      ]
    },
    {
      "cell_type": "code",
      "execution_count": 13,
      "metadata": {
        "colab": {
          "base_uri": "https://localhost:8080/"
        },
        "id": "SXxV-lr6_Lvk",
        "outputId": "701236ab-1299-41ee-f219-99facf592dfa"
      },
      "outputs": [
        {
          "data": {
            "text/plain": [
              "array([2, 0, 1, 2, 0, 2, 0, 2, 2, 2, 0, 2, 2, 1, 0, 1, 0, 2, 2, 0])"
            ]
          },
          "execution_count": 13,
          "metadata": {},
          "output_type": "execute_result"
        }
      ],
      "source": [
        "model.predict(x_test)"
      ]
    },
    {
      "cell_type": "code",
      "execution_count": 14,
      "metadata": {
        "colab": {
          "base_uri": "https://localhost:8080/"
        },
        "id": "1ynaj_EKBmWg",
        "outputId": "7e123356-5fd1-4ec5-e4f4-3bfd258a0191"
      },
      "outputs": [
        {
          "data": {
            "text/plain": [
              "array([2, 0, 1, 2, 0, 2, 0, 2, 2, 2, 0, 2, 2, 1, 0, 1, 0, 2, 2, 0])"
            ]
          },
          "execution_count": 14,
          "metadata": {},
          "output_type": "execute_result"
        }
      ],
      "source": [
        "y_test"
      ]
    },
    {
      "cell_type": "code",
      "execution_count": 15,
      "metadata": {
        "colab": {
          "base_uri": "https://localhost:8080/"
        },
        "id": "ePHakPDgB5Nm",
        "outputId": "7c93ca74-893a-4a8c-ee65-7f1b8d954003"
      },
      "outputs": [
        {
          "data": {
            "text/plain": [
              "array([1])"
            ]
          },
          "execution_count": 15,
          "metadata": {},
          "output_type": "execute_result"
        }
      ],
      "source": [
        "model.predict([iris.data[54]])"
      ]
    },
    {
      "cell_type": "code",
      "execution_count": 16,
      "metadata": {
        "colab": {
          "base_uri": "https://localhost:8080/"
        },
        "id": "KKXePG92EDxM",
        "outputId": "dcbfa3f2-0020-44ee-c103-28eaa93b10a2"
      },
      "outputs": [
        {
          "data": {
            "text/plain": [
              "1"
            ]
          },
          "execution_count": 16,
          "metadata": {},
          "output_type": "execute_result"
        }
      ],
      "source": [
        "iris.target[54]"
      ]
    },
    {
      "cell_type": "code",
      "execution_count": 17,
      "metadata": {
        "colab": {
          "base_uri": "https://localhost:8080/"
        },
        "id": "VTYC2xoYERzS",
        "outputId": "1a95b966-a9e6-4cba-8168-cbf68c19881b"
      },
      "outputs": [
        {
          "data": {
            "text/plain": [
              "100.0"
            ]
          },
          "execution_count": 17,
          "metadata": {},
          "output_type": "execute_result"
        }
      ],
      "source": [
        "model.score(x_test,y_test)*100"
      ]
    },
    {
      "cell_type": "code",
      "execution_count": 18,
      "metadata": {
        "id": "VU_U0aQ4Eend"
      },
      "outputs": [],
      "source": [
        "y_predicted = model.predict(x_test)"
      ]
    },
    {
      "cell_type": "code",
      "execution_count": 19,
      "metadata": {
        "colab": {
          "base_uri": "https://localhost:8080/"
        },
        "id": "E9N2BFiJEVhP",
        "outputId": "2bf8345f-d88a-436c-92c4-d20c0763217d"
      },
      "outputs": [
        {
          "data": {
            "text/plain": [
              "array([[ 7,  0,  0],\n",
              "       [ 0,  3,  0],\n",
              "       [ 0,  0, 10]], dtype=int64)"
            ]
          },
          "execution_count": 19,
          "metadata": {},
          "output_type": "execute_result"
        }
      ],
      "source": [
        "from sklearn.metrics import confusion_matrix\n",
        "cm = confusion_matrix(y_test,y_predicted)\n",
        "cm"
      ]
    },
    {
      "cell_type": "code",
      "execution_count": 20,
      "metadata": {
        "id": "uACPyq6sFDe9"
      },
      "outputs": [],
      "source": [
        "%matplotlib inline\n",
        "import matplotlib.pyplot as plt\n",
        "import seaborn as sns"
      ]
    },
    {
      "cell_type": "code",
      "execution_count": 21,
      "metadata": {
        "colab": {
          "base_uri": "https://localhost:8080/",
          "height": 463
        },
        "id": "VeuDuHN3FUDq",
        "outputId": "22d1b1df-0257-4193-910f-e15c9b39a71a"
      },
      "outputs": [
        {
          "data": {
            "text/plain": [
              "Text(69.0, 0.5, 'Test')"
            ]
          },
          "execution_count": 21,
          "metadata": {},
          "output_type": "execute_result"
        },
        {
          "data": {
            "image/png": "[encoded data removed]",
            "text/plain": [
              "<Figure size 720x504 with 2 Axes>"
            ]
          },
          "metadata": {
            "needs_background": "light"
          },
          "output_type": "display_data"
        }
      ],
      "source": [
        "plt.figure(figsize=(10,7))\n",
        "sns.heatmap(cm,annot=True)\n",
        "plt.xlabel('Predicted')\n",
        "plt.ylabel('Test')"
      ]
    }
  ],
  "metadata": {
    "colab": {
      "collapsed_sections": [],
      "name": "IRIS_Classification.ipynb",
      "provenance": []
    },
    "kernelspec": {
      "display_name": "Python 3",
      "name": "python3"
    },
    "language_info": {
      "codemirror_mode": {
        "name": "ipython",
        "version": 3
      },
      "file_extension": ".py",
      "mimetype": "text/x-python",
      "name": "python",
      "nbconvert_exporter": "python",
      "pygments_lexer": "ipython3",
      "version": "3.9.4"
    }
  },
  "nbformat": 4,
  "nbformat_minor": 0
}
